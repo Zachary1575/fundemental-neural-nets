{
 "cells": [
  {
   "cell_type": "markdown",
   "id": "79a7ef5a",
   "metadata": {},
   "source": [
    "# Linear Threshold Gate (LTG) concept through a Linear Perceptron in predicting OR and AND gates"
   ]
  },
  {
   "cell_type": "markdown",
   "id": "51b5a6db",
   "metadata": {},
   "source": [
    "### Notes for myself:"
   ]
  },
  {
   "cell_type": "markdown",
   "id": "cea1898f",
   "metadata": {},
   "source": [
    "We are assuming T = 0 and that for a activation function with such a threshhold constant we see that:\n",
    "$$activation \\: function \\:(\\hat{y}) = \\begin{cases}\n",
    "  1 & \\text{Weighted sum of $w$ and $x$ is > $0$} \\\\\n",
    "  0 & \\text{otherwise}\n",
    "\\end{cases}$$\n",
    "\n",
    "Also note that we will be only looking at 2 inputs of \"x\" for our linear perceptron denoted as $x_1$ and $x_2$.\n",
    "\n",
    "Weights will also be contained as $w_0$ (bias), $w_1$, and $w_2$."
   ]
  },
  {
   "cell_type": "code",
   "execution_count": 26,
   "id": "79a4c0bf",
   "metadata": {},
   "outputs": [
    {
     "name": "stdout",
     "output_type": "stream",
     "text": [
      "Number of samples: 4\n"
     ]
    }
   ],
   "source": [
    "import numpy as np\n",
    "\n",
    "# Data\n",
    "# Bias (Incorporated as inputs to avoid seperation scheme), x_1, x_2\n",
    "X = [[1,0,0],\n",
    "    [1,1,0],\n",
    "    [1,0,1],\n",
    "    [1,1,1]];\n",
    "\n",
    "y = [\n",
    "    0,\n",
    "    1,\n",
    "    1,\n",
    "    1];\n",
    "\n",
    "X_test = [[1,1,0],\n",
    "[1,0,0],\n",
    "[1,0,0],\n",
    "[1,1,1]];\n",
    "\n",
    "y_test = [1, 0, 0, 1];\n",
    "\n",
    "\n",
    "X = np.array(X);\n",
    "X_test = np.array(X_test);\n",
    "print(\"Number of samples:\", X.shape[0]);"
   ]
  },
  {
   "cell_type": "code",
   "execution_count": 28,
   "id": "7ff73945",
   "metadata": {},
   "outputs": [],
   "source": [
    "# Functions\n",
    "def threshold_activation_function(weighted_sum):\n",
    "    if (weighted_sum > 0):\n",
    "        return 1;\n",
    "    else:\n",
    "        return 0;\n",
    "    \n",
    "def perceptron_train(X, y):\n",
    "    w = np.zeros(len(X[0])) # Set all the weights to 0, w_0 -> 0, w_1 -> 0, and w_2 -> 0\n",
    "    n = 5 # Training time (amount of epochs)\n",
    "    errors = []; # Useful to see\n",
    "    \n",
    "    \n",
    "    for epoch in range(n):\n",
    "        print(\"--------- Epoch\",epoch, \"---------\");\n",
    "        total_errors = 0;\n",
    "        \n",
    "        # Training each of the 4 inputs provided in X...\n",
    "        for i in range(X.shape[0]):\n",
    "            weighted_sum = np.dot(X[i], w) # Calculate the weighted sum\n",
    "            print(\"The weighted sum is: \",  weighted_sum);\n",
    "            yhat = threshold_activation_function(weighted_sum) # classify the input, check if it passes\n",
    "        \n",
    "            if (yhat == y[i]):\n",
    "                print('correct no update')\n",
    "                continue\n",
    "            elif (yhat > y[i]):\n",
    "                total_errors += 1\n",
    "                w = w - X[i] # Correction for overshot\n",
    "                print(\"Error: Overshot and adjusting weights...\");\n",
    "            elif (yhat < y[i]):\n",
    "                total_errors += 1\n",
    "                w = w + X[i] # Correction for undershot\n",
    "                print(\"Error: Undershot and adjusting weights...\");\n",
    "            \n",
    "        errors.append(total_errors) # To see the error progression...\n",
    "        print();\n",
    "        \n",
    "    return w;\n",
    "\n",
    "def predict_OR(X, y, weights):\n",
    "    for i in range(X.shape[0]):\n",
    "        w = weights;\n",
    "        z = np.dot(X[i], w); # Calculate the weighted sum\n",
    "        predicted = threshold_activation_function(z);\n",
    "        \n",
    "        if (predicted == y[i]):\n",
    "            print(\"Correctly predicted.\");\n",
    "        else:\n",
    "            print(\"Incorrectly predicted, something went wrong!\");\n",
    "    \n",
    "    "
   ]
  },
  {
   "cell_type": "code",
   "execution_count": 30,
   "id": "a75172ea",
   "metadata": {},
   "outputs": [
    {
     "name": "stdout",
     "output_type": "stream",
     "text": [
      "--------- Epoch 0 ---------\n",
      "The weighted sum is:  0.0\n",
      "correct no update\n",
      "The weighted sum is:  0.0\n",
      "Error: Undershot and adjusting weights...\n",
      "The weighted sum is:  1.0\n",
      "correct no update\n",
      "The weighted sum is:  2.0\n",
      "correct no update\n",
      "\n",
      "--------- Epoch 1 ---------\n",
      "The weighted sum is:  1.0\n",
      "Error: Overshot and adjusting weights...\n",
      "The weighted sum is:  1.0\n",
      "correct no update\n",
      "The weighted sum is:  0.0\n",
      "Error: Undershot and adjusting weights...\n",
      "The weighted sum is:  3.0\n",
      "correct no update\n",
      "\n",
      "--------- Epoch 2 ---------\n",
      "The weighted sum is:  1.0\n",
      "Error: Overshot and adjusting weights...\n",
      "The weighted sum is:  1.0\n",
      "correct no update\n",
      "The weighted sum is:  1.0\n",
      "correct no update\n",
      "The weighted sum is:  2.0\n",
      "correct no update\n",
      "\n",
      "--------- Epoch 3 ---------\n",
      "The weighted sum is:  0.0\n",
      "correct no update\n",
      "The weighted sum is:  1.0\n",
      "correct no update\n",
      "The weighted sum is:  1.0\n",
      "correct no update\n",
      "The weighted sum is:  2.0\n",
      "correct no update\n",
      "\n",
      "--------- Epoch 4 ---------\n",
      "The weighted sum is:  0.0\n",
      "correct no update\n",
      "The weighted sum is:  1.0\n",
      "correct no update\n",
      "The weighted sum is:  1.0\n",
      "correct no update\n",
      "The weighted sum is:  2.0\n",
      "correct no update\n",
      "\n",
      "The learned weights are: [0. 1. 1.]\n",
      "\n",
      "Correctly predicted.\n",
      "Correctly predicted.\n",
      "Correctly predicted.\n",
      "Correctly predicted.\n"
     ]
    }
   ],
   "source": [
    "# Main Program\n",
    "weights = perceptron_train(X,y);\n",
    "print(\"The learned weights are:\", weights);\n",
    "print();\n",
    "\n",
    "# Testing\n",
    "predict_OR(X_test, y_test, weights);"
   ]
  },
  {
   "cell_type": "code",
   "execution_count": null,
   "id": "22e87a94",
   "metadata": {},
   "outputs": [],
   "source": []
  }
 ],
 "metadata": {
  "kernelspec": {
   "display_name": "Python 3 (ipykernel)",
   "language": "python",
   "name": "python3"
  },
  "language_info": {
   "codemirror_mode": {
    "name": "ipython",
    "version": 3
   },
   "file_extension": ".py",
   "mimetype": "text/x-python",
   "name": "python",
   "nbconvert_exporter": "python",
   "pygments_lexer": "ipython3",
   "version": "3.9.12"
  }
 },
 "nbformat": 4,
 "nbformat_minor": 5
}
